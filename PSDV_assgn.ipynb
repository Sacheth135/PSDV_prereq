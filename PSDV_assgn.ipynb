{
 "cells": [
  {
   "cell_type": "code",
   "execution_count": null,
   "id": "4986360d-f281-4166-b9e6-ede83c63a2c1",
   "metadata": {},
   "outputs": [],
   "source": [
    "1) List Operations and Basic Statistics:\n",
    "   Create a list of the first 20 natural numbers.\n",
    "   Compute the sum of all even numbers in the list.\n",
    "   Compute the product of all odd numbers in the list.\n",
    "   Calculate the mean, median, and standard deviation of the list."
   ]
  },
  {
   "cell_type": "code",
   "execution_count": 13,
   "id": "2e6314d5-ee28-4c3c-8c68-6f1741ede925",
   "metadata": {},
   "outputs": [
    {
     "name": "stdout",
     "output_type": "stream",
     "text": [
      "[1, 2, 3, 4, 5, 6, 7, 8, 9, 10, 11, 12, 13, 14, 15, 16, 17, 18, 19, 20]\n",
      "Sum= 210\n",
      "Product= 654729075\n",
      "Mean= 10.5\n",
      "Median= 10.5\n",
      "Standard deviation= 5.766281297335398\n"
     ]
    }
   ],
   "source": [
    "#creating list\n",
    "l=[]\n",
    "for i in range(1,21):\n",
    "    l.append(i)\n",
    "print(l)\n",
    "\n",
    "#finding sum\n",
    "s=0\n",
    "for i in l:\n",
    "    s+=i\n",
    "print(\"Sum=\",s)\n",
    "\n",
    "#finding product of odd numbers\n",
    "p=1\n",
    "for i in l:\n",
    "    if i%2==1:\n",
    "        p*=i\n",
    "print(\"Product=\",p)\n",
    "\n",
    "#mean\n",
    "mean=s/len(l)\n",
    "print(\"Mean=\",mean)\n",
    "\n",
    "#median\n",
    "a=len(l)\n",
    "l.sort()\n",
    "if a%2==0:\n",
    "    median=(l[int(a/2)]+l[int(a/2)-1])/2\n",
    "else:\n",
    "    median=l[int((a-1)/2)]\n",
    "print(\"Median=\",median)\n",
    "\n",
    "#standard deviation\n",
    "_sum=0\n",
    "for i in l:\n",
    "    x=(i-mean)**2\n",
    "    _sum+=x\n",
    "std_dev=(_sum/a)**0.5\n",
    "print(\"Standard deviation=\",std_dev)"
   ]
  },
  {
   "cell_type": "code",
   "execution_count": null,
   "id": "da621d77-adb6-4d36-9c35-487529ad27ba",
   "metadata": {},
   "outputs": [],
   "source": [
    "2)Mutable vs. Immutable Data Types:\n",
    "  Explain the difference between mutable and immutable data types in Python. Provide examples of each."
   ]
  },
  {
   "cell_type": "code",
   "execution_count": null,
   "id": "fef2c7db-ce45-423a-b0bd-db3f969be1f0",
   "metadata": {},
   "outputs": [],
   "source": [
    "Mutable data types are data that can be changed even after being created.\n",
    "Eg: Lists, dictionaries\n",
    "Immutable data types are data that cannot be changed once created.\n",
    "Eg: Strings, tuples"
   ]
  },
  {
   "cell_type": "code",
   "execution_count": null,
   "id": "9372acf8-9ffd-47fc-b7ac-504a1834b23f",
   "metadata": {},
   "outputs": [],
   "source": [
    "3)Fibonacci Sequence:\n",
    "  Write a Python function that takes a number n and returns a list of the first n Fibonacci numbers.\n",
    "  Plot the Fibonacci sequence using a line graph"
   ]
  },
  {
   "cell_type": "code",
   "execution_count": 45,
   "id": "b06791cd-8aec-4732-9e1f-b5feccc9449d",
   "metadata": {},
   "outputs": [
    {
     "name": "stdin",
     "output_type": "stream",
     "text": [
      " 5\n"
     ]
    },
    {
     "name": "stdout",
     "output_type": "stream",
     "text": [
      "[1, 1, 2, 3, 5]\n"
     ]
    },
    {
     "data": {
      "image/png": "[encoded data removed]",
      "text/plain": [
       "<Figure size 640x480 with 1 Axes>"
      ]
     },
     "metadata": {},
     "output_type": "display_data"
    }
   ],
   "source": [
    "import matplotlib.pyplot as mp\n",
    "#fibonacci series\n",
    "def fib(n):\n",
    "    a=1\n",
    "    b=1\n",
    "    s=0\n",
    "    l=[1,1]\n",
    "    for i in range(n-2):\n",
    "        s=a+b\n",
    "        a=b\n",
    "        b=s\n",
    "        l.append(s)\n",
    "    return (l)\n",
    "\n",
    "n=int(input())\n",
    "print(fib(n))\n",
    "y=fib(n)\n",
    "x=[i for i in range(1,len(y)+1)]\n",
    "graph=mp.plot(x,y)\n",
    "mp.title(\"Line graph\")\n",
    "mp.show()"
   ]
  },
  {
   "cell_type": "code",
   "execution_count": null,
   "id": "535af26b-f377-4776-9fed-d2353410f190",
   "metadata": {},
   "outputs": [],
   "source": [
    "4)List Manipulation:\n",
    "  Given a list [3, 5, 7, 9, 11, 13]:\n",
    "  Insert 6 at the 3rd index.\n",
    "  Remove the number 7 from the list.\n",
    "  Reverse the list.\n",
    "  Calculate the mean and median of the modified list."
   ]
  },
  {
   "cell_type": "code",
   "execution_count": 25,
   "id": "4921c39f-7f2e-456b-8865-45e7e35ef347",
   "metadata": {},
   "outputs": [
    {
     "name": "stdout",
     "output_type": "stream",
     "text": [
      "[13, 11, 9, 6, 5, 3]\n",
      "Mean= 7.833333333333333\n",
      "Median 7.5\n"
     ]
    }
   ],
   "source": [
    "import statistics as st\n",
    "\n",
    "l=[3, 5, 7, 9, 11, 13]\n",
    "\n",
    "#insert 6 at 3rd index\n",
    "l.insert(3,6)\n",
    "\n",
    "#remove 7\n",
    "l.remove(7)\n",
    "\n",
    "#reverse the list\n",
    "l=l[::-1]\n",
    "print(l)\n",
    "\n",
    "#mean and median\n",
    "print(\"Mean=\",st.mean(l))\n",
    "print(\"Median\",st.median(l))"
   ]
  },
  {
   "cell_type": "code",
   "execution_count": null,
   "id": "7397baeb-6d85-4648-99b3-5101fc6cce18",
   "metadata": {},
   "outputs": [],
   "source": [
    "5)User Input and Basic Statistics:\n",
    "  Write a program to read a comma-separated list of numbers from the user (e.g., “10, 20, 30, 40”).\n",
    "  Calculate the mean of the numbers.\n",
    "  Identify and print the smallest and largest numbers.\n",
    "  Plot a histogram of the numbers."
   ]
  },
  {
   "cell_type": "code",
   "execution_count": 47,
   "id": "0cd36577-b12f-4628-a5b3-ecba5d5963b8",
   "metadata": {
    "scrolled": true
   },
   "outputs": [
    {
     "name": "stdin",
     "output_type": "stream",
     "text": [
      " 5\n"
     ]
    },
    {
     "name": "stdout",
     "output_type": "stream",
     "text": [
      "Mean= 5\n",
      "Smallest number= 5\n",
      "Largest number= 5\n"
     ]
    },
    {
     "data": {
      "image/png": "[encoded data removed]",
      "text/plain": [
       "<Figure size 640x480 with 1 Axes>"
      ]
     },
     "metadata": {},
     "output_type": "display_data"
    }
   ],
   "source": [
    "import statistics as st\n",
    "import matplotlib.pyplot as plt\n",
    "\n",
    "inp=input()\n",
    "l=list(map(int,inp.split(',')))\n",
    "\n",
    "#mean\n",
    "print(\"Mean=\",st.mean(l))\n",
    "\n",
    "print(\"Smallest number=\",min(l))\n",
    "print(\"Largest number=\",max(l))\n",
    "\n",
    "plt.hist(l)\n",
    "plt.show()"
   ]
  },
  {
   "cell_type": "code",
   "execution_count": null,
   "id": "8d2cb602-196d-486b-8ff1-b28a7fc12387",
   "metadata": {},
   "outputs": [],
   "source": [
    "6)Palindrome Check:\n",
    "  Write a program to check if a string is a palindrome (ignoring spaces and case).\n",
    "  Input: \"A man a plan a canal Panama\"\n",
    "  Output: True"
   ]
  },
  {
   "cell_type": "code",
   "execution_count": 43,
   "id": "2821b840-95e3-4b5f-81aa-c64fb99341cf",
   "metadata": {},
   "outputs": [
    {
     "name": "stdin",
     "output_type": "stream",
     "text": [
      " A man a plan a canal Panama\n"
     ]
    },
    {
     "name": "stdout",
     "output_type": "stream",
     "text": [
      "True\n"
     ]
    }
   ],
   "source": [
    "inp=input()\n",
    "inp=inp.lower()\n",
    "l=[]\n",
    "for i in inp:\n",
    "    if i.isspace()==False:\n",
    "        l.append(i)\n",
    "l_rev=l[::-1]\n",
    "if l==l_rev:\n",
    "    print(\"True\")\n",
    "else:\n",
    "    print(\"False\")"
   ]
  },
  {
   "cell_type": "code",
   "execution_count": null,
   "id": "621f81a2-4cb6-4b47-9fde-8094e0d8799c",
   "metadata": {},
   "outputs": [],
   "source": [
    "7)Dictionary Operations:\n",
    "    Create a dictionary of student names (keys) and their marks (values).\n",
    "    Compute the average marks.\n",
    "    Print the names of students scoring above the average.\n",
    "    Visualize the distribution of marks using a bar chart."
   ]
  },
  {
   "cell_type": "code",
   "execution_count": 49,
   "id": "9906eb25-70cd-4a4d-8db2-5471c17adfc8",
   "metadata": {},
   "outputs": [
    {
     "name": "stdout",
     "output_type": "stream",
     "text": [
      "Mean= 21.0\n",
      "Ram\n",
      "Arun\n",
      "Sonam\n"
     ]
    },
    {
     "data": {
      "text/plain": [
       "<function matplotlib.pyplot.show(close=None, block=None)>"
      ]
     },
     "execution_count": 49,
     "metadata": {},
     "output_type": "execute_result"
    },
    {
     "data": {
      "image/png": "[encoded data removed]",
      "text/plain": [
       "<Figure size 640x480 with 1 Axes>"
      ]
     },
     "metadata": {},
     "output_type": "display_data"
    }
   ],
   "source": [
    "import matplotlib.pyplot as plt\n",
    "\n",
    "d={'Ram': 25, 'Arun': 27, 'Viraj': 16, 'Sonam': 23, 'Kavya': 14}\n",
    "\n",
    "#average\n",
    "a=len(d)\n",
    "s=0\n",
    "for i in d:\n",
    "    s+=d[i]\n",
    "mean=s/len(d)\n",
    "print('Mean=',mean)\n",
    "#names\n",
    "for i in d:\n",
    "    if d[i]>mean:\n",
    "        print(i)\n",
    "\n",
    "x=[i for i in d]\n",
    "y=[i for i in d.values()]\n",
    "plt.bar(x,y)\n",
    "plt.xlabel(\"Student name\")\n",
    "plt.ylabel(\"Marks\")\n",
    "plt.show"
   ]
  },
  {
   "cell_type": "code",
   "execution_count": null,
   "id": "70a4eed0-cbec-4d21-8473-9071a51b7284",
   "metadata": {},
   "outputs": [],
   "source": [
    "8)Tuple List Creation:\n",
    "    Create a list of tuples, where each tuple contains a number and its square (e.g., [(1, 1), (2, 4), (3, 9), ...] for numbers 1 to 10).\n",
    "    Plot the numbers and their squares on a scatter plot."
   ]
  },
  {
   "cell_type": "code",
   "execution_count": 51,
   "id": "46a5ebed-3d11-4691-aa81-02dd1614b351",
   "metadata": {},
   "outputs": [
    {
     "name": "stdout",
     "output_type": "stream",
     "text": [
      "[(1, 1), (2, 4), (3, 9), (4, 16), (5, 25), (6, 36), (7, 49), (8, 64), (9, 81), (10, 100)]\n"
     ]
    },
    {
     "data": {
      "image/png": "[encoded data removed]",
      "text/plain": [
       "<Figure size 640x480 with 1 Axes>"
      ]
     },
     "metadata": {},
     "output_type": "display_data"
    }
   ],
   "source": [
    "import matplotlib.pyplot as plt\n",
    "\n",
    "l=[]\n",
    "for i in range(1,11):\n",
    "    l.append((i,i**2))\n",
    "print(l)\n",
    "x=[i[0] for i in l]\n",
    "y=[i[1] for i in l]\n",
    "plt.scatter(x,y)\n",
    "plt.xlabel(\"Number\")\n",
    "plt.ylabel(\"Square\")\n",
    "plt.show()"
   ]
  },
  {
   "cell_type": "code",
   "execution_count": null,
   "id": "0d42fc9d-2724-4984-8305-07ddad295143",
   "metadata": {},
   "outputs": [],
   "source": [
    "9)Merging Dictionaries:\n",
    "    Write Python code to merge two dictionaries. If a key is present in both, sum their values."
   ]
  },
  {
   "cell_type": "code",
   "execution_count": 48,
   "id": "ac5da4cd-fa37-42e7-8696-8e2dd720881f",
   "metadata": {},
   "outputs": [
    {
     "name": "stdout",
     "output_type": "stream",
     "text": [
      "{'a': 9, 'b': 18, 'c': 24, 'd': 28, 'f': 23}\n"
     ]
    }
   ],
   "source": [
    "d1={'a':5, 'b':10, 'c':24, 'd':13}\n",
    "d2={'b':8, 'd':15, 'a': 4, 'f':23}\n",
    "d3={}\n",
    "for i in d1:\n",
    "    if i in d2:\n",
    "        d3[i]=d1[i]+d2[i]\n",
    "        d2.pop(i)\n",
    "    else:\n",
    "        d3[i]=d1[i]\n",
    "d3=d3|d2\n",
    "print(d3)"
   ]
  },
  {
   "cell_type": "code",
   "execution_count": null,
   "id": "846fd8d4-4134-405f-a518-e200ccc6dbf3",
   "metadata": {},
   "outputs": [],
   "source": [
    "10)Character Frequency:\n",
    "    Write a function that accepts a string and:\n",
    "        Converts all characters to lowercase.\n",
    "        Counts the frequency of each character.\n",
    "        Returns a dictionary with characters as keys and their counts as values.\n",
    "        Visualize the character frequencies using a bar chart."
   ]
  },
  {
   "cell_type": "code",
   "execution_count": 54,
   "id": "6d18b371-8e43-44a3-a1fc-efba1f541b27",
   "metadata": {},
   "outputs": [
    {
     "name": "stdin",
     "output_type": "stream",
     "text": [
      " The sun rises in the east\n"
     ]
    },
    {
     "name": "stdout",
     "output_type": "stream",
     "text": [
      "{'t': 3, 'h': 2, 'e': 4, 's': 4, 'u': 1, 'n': 2, 'r': 1, 'i': 2, 'a': 1}\n"
     ]
    },
    {
     "data": {
      "text/plain": [
       "<function matplotlib.pyplot.show(close=None, block=None)>"
      ]
     },
     "execution_count": 54,
     "metadata": {},
     "output_type": "execute_result"
    },
    {
     "data": {
      "image/png": "[encoded data removed]",
      "text/plain": [
       "<Figure size 640x480 with 1 Axes>"
      ]
     },
     "metadata": {},
     "output_type": "display_data"
    }
   ],
   "source": [
    "import matplotlib.pyplot as plt\n",
    "\n",
    "def freq(n):\n",
    "    d={}\n",
    "    n=n.lower()\n",
    "    for i in n:\n",
    "        if i.isalpha():\n",
    "            if i in d:\n",
    "                d[i]+=1\n",
    "            else:\n",
    "                d[i]=1\n",
    "    return d\n",
    "\n",
    "n=input()\n",
    "print(freq(n))\n",
    "dic=freq(n)\n",
    "x=[i for i in dic]\n",
    "y=[i for i in dic.values()]\n",
    "plt.bar(x,y)\n",
    "plt.xlabel(\"Character\")\n",
    "plt.ylabel(\"Frequency\")\n",
    "plt.show"
   ]
  },
  {
   "cell_type": "code",
   "execution_count": null,
   "id": "0e58d015-b950-4638-bb3d-6bdc4584f202",
   "metadata": {},
   "outputs": [],
   "source": [
    "11)Remove Duplicates:\n",
    "    Write a program to remove duplicate elements from a list while maintaining the order of elements.\n",
    "    Calculate the mean and median of the unique elements."
   ]
  },
  {
   "cell_type": "code",
   "execution_count": 55,
   "id": "fc492259-faa9-4095-9922-b719909cc59e",
   "metadata": {},
   "outputs": [
    {
     "name": "stdout",
     "output_type": "stream",
     "text": [
      "[3, 7, 12, 8, 15, 9, 5]\n",
      "Mean= 8.428571428571429\n",
      "Median= 8\n"
     ]
    }
   ],
   "source": [
    "import statistics as st\n",
    "l=[3, 7, 12, 3, 8, 7, 15, 12, 9, 5]\n",
    "l1=[]\n",
    "for i in l:\n",
    "    if i not in l1:\n",
    "        l1.append(i)\n",
    "print(l1)\n",
    "\n",
    "#mean and median\n",
    "print(\"Mean=\",st.mean(l1))\n",
    "print(\"Median=\",st.median(l1))"
   ]
  },
  {
   "cell_type": "code",
   "execution_count": null,
   "id": "1da2d811-52ab-4ce3-9b8e-42db40a272bf",
   "metadata": {},
   "outputs": [],
   "source": [
    "12)String Operations:\n",
    "    Given a list of strings, write a Python function to:\n",
    "        Find the longest string.\n",
    "        Count how many strings start with a vowel.\n",
    "        Visualize the distribution of string lengths using a histogram."
   ]
  },
  {
   "cell_type": "code",
   "execution_count": 55,
   "id": "d4e36a0e-c00c-4b6c-8a89-731c5d7d4994",
   "metadata": {},
   "outputs": [
    {
     "name": "stdout",
     "output_type": "stream",
     "text": [
      "Longest string= uncharacteristically\n",
      "Number of strings starting with vowel= 7\n"
     ]
    },
    {
     "data": {
      "image/png": "[encoded data removed]",
      "text/plain": [
       "<Figure size 640x480 with 1 Axes>"
      ]
     },
     "metadata": {},
     "output_type": "display_data"
    }
   ],
   "source": [
    "import matplotlib.pyplot as plt\n",
    "\n",
    "l= [\"apple\", \"banana\", \"orange\", \"grape\", \"umbrella\", \"uncharacteristically\", \"elephant\", \"cat\", \"iguana\", \"octopus\"]\n",
    "#longest\n",
    "longest=None\n",
    "length=0\n",
    "for i in l:\n",
    "    if len(i)>length:\n",
    "        length=len(i)\n",
    "        longest=i\n",
    "print(\"Longest string=\",longest)\n",
    "\n",
    "#start with vowel\n",
    "s=0\n",
    "vow=\"a e i o u\"\n",
    "for i in l:\n",
    "    if i[0] in vow:\n",
    "        s+=1\n",
    "print(\"Number of strings starting with vowel=\",s)\n",
    "\n",
    "str_len=[len(i) for i in l]\n",
    "plt.hist(str_len)\n",
    "plt.show()"
   ]
  },
  {
   "cell_type": "code",
   "execution_count": null,
   "id": "3ba981ab-b579-455d-921b-634fb2b4411b",
   "metadata": {},
   "outputs": [],
   "source": [
    "13)Sorting Dictionaries:\n",
    "    Write a function to sort a list of dictionaries by a key."
   ]
  },
  {
   "cell_type": "code",
   "execution_count": 63,
   "id": "8d9d61d5-6a23-4cf6-931c-d99bf7327d98",
   "metadata": {},
   "outputs": [
    {
     "name": "stdin",
     "output_type": "stream",
     "text": [
      "Enter key: age\n"
     ]
    },
    {
     "name": "stdout",
     "output_type": "stream",
     "text": [
      "[{'name': 'Eve', 'age': 22}, {'name': 'Bob', 'age': 25}, {'name': 'Diana', 'age': 28}, {'name': 'Alice', 'age': 30}, {'name': 'Charlie', 'age': 35}]\n"
     ]
    }
   ],
   "source": [
    "l=[\n",
    "    {\"name\": \"Alice\", \"age\": 30},\n",
    "    {\"name\": \"Bob\", \"age\": 25},\n",
    "    {\"name\": \"Charlie\", \"age\": 35},\n",
    "    {\"name\": \"Diana\", \"age\": 28},\n",
    "    {\"name\": \"Eve\", \"age\": 22}\n",
    "  ]\n",
    "key=[]\n",
    "inp=input(\"Enter key:\")\n",
    "for i in l:\n",
    "    key.append(i[inp])\n",
    "key.sort()\n",
    "l_fin=[]\n",
    "for i in key:\n",
    "    for j in l:\n",
    "        if j[inp]==i:\n",
    "            l_fin.append(j)\n",
    "print(l_fin)"
   ]
  },
  {
   "cell_type": "code",
   "execution_count": null,
   "id": "ac45a551-78f1-4b89-b74d-2882703e5ecc",
   "metadata": {},
   "outputs": [],
   "source": [
    "14)Word Filtering and Sorting:\n",
    "    Write a program to:\n",
    "        Split a string into a list of words.\n",
    "        Remove all words that are shorter than 4 characters.\n",
    "        Sort the remaining words alphabetically.\n",
    "        Visualize the word lengths using a bar chart."
   ]
  },
  {
   "cell_type": "code",
   "execution_count": 69,
   "id": "7059d8c1-6563-46b1-8954-e2ddd0cc7859",
   "metadata": {},
   "outputs": [
    {
     "name": "stdin",
     "output_type": "stream",
     "text": [
      "Enter strings: The sun rises in the east\n"
     ]
    },
    {
     "name": "stdout",
     "output_type": "stream",
     "text": [
      "['east', 'rises']\n"
     ]
    },
    {
     "data": {
      "image/png": "[encoded data removed]",
      "text/plain": [
       "<Figure size 640x480 with 1 Axes>"
      ]
     },
     "metadata": {},
     "output_type": "display_data"
    }
   ],
   "source": [
    "inp=input(\"Enter strings:\")\n",
    "lis=inp.split()\n",
    "l=[i for i in lis if len(i)>=4] \n",
    "l.sort()\n",
    "print(l)\n",
    "y=[len(i) for i in l]\n",
    "plt.bar(l,y,color=\"skyblue\")\n",
    "plt.xlabel(\"Word\")\n",
    "plt.ylabel(\"Length\")\n",
    "plt.show()"
   ]
  },
  {
   "cell_type": "code",
   "execution_count": null,
   "id": "1f4f9932-f4fc-4852-ae96-d6d6e347ef59",
   "metadata": {},
   "outputs": [],
   "source": [
    "15)Anagram Finder:\n",
    "    Write a Python function to find all anagrams of a word in a given list."
   ]
  },
  {
   "cell_type": "code",
   "execution_count": 66,
   "id": "bf35fabe-ee6e-4a1b-a74b-19200bd8b32a",
   "metadata": {},
   "outputs": [
    {
     "name": "stdout",
     "output_type": "stream",
     "text": [
      "['enlist', 'inlets']\n"
     ]
    }
   ],
   "source": [
    "word=\"listen\"\n",
    "words = [\"enlist\", \"google\", \"inlets\", \"banana\"]\n",
    "anag=[]\n",
    "for i in words:\n",
    "    x=0\n",
    "    if len(i)==len(word):\n",
    "        for j in i:\n",
    "            if j not in word:\n",
    "                x=1\n",
    "    if x==0:\n",
    "        anag.append(i)\n",
    "print(anag)"
   ]
  },
  {
   "cell_type": "code",
   "execution_count": null,
   "id": "5d77ec0a-1428-4cb4-860e-f06dbe7ac901",
   "metadata": {},
   "outputs": [],
   "source": [
    "16)Set Operations:\n",
    "    Given two lists, write Python code to find their intersection, union, and symmetric difference.\n",
    "    Visualize the results using Venn diagrams."
   ]
  },
  {
   "cell_type": "code",
   "execution_count": 78,
   "id": "a58f4cbe-6a3d-4368-8b8b-086e04e03c05",
   "metadata": {},
   "outputs": [
    {
     "name": "stdout",
     "output_type": "stream",
     "text": [
      "Intersection: [4, 5, 6]\n",
      "Union: [1, 2, 3, 4, 5, 6, 7, 8, 9]\n",
      "Symmetric difference: [1, 2, 3, 7, 8, 9]\n"
     ]
    },
    {
     "data": {
      "image/png": "[encoded data removed]",
      "text/plain": [
       "<Figure size 640x480 with 1 Axes>"
      ]
     },
     "metadata": {},
     "output_type": "display_data"
    }
   ],
   "source": [
    "from matplotlib_venn import venn2 as ven\n",
    "\n",
    "set1 = [1, 2, 3, 4, 5, 6]\n",
    "set2 = [4, 5, 6, 7, 8, 9]\n",
    "\n",
    "#intersection\n",
    "inter=[]\n",
    "for i in set1:\n",
    "    if i in set2:\n",
    "        inter.append(i)\n",
    "print(\"Intersection:\",inter)\n",
    "\n",
    "#union\n",
    "a=set1\n",
    "b=set2\n",
    "\n",
    "for i in inter:\n",
    "    b.remove(i)\n",
    "union=a+b\n",
    "print(\"Union:\",union)\n",
    "\n",
    "#symmetric difference\n",
    "for i in inter:\n",
    "    a.remove(i)\n",
    "symm_diff=a+b\n",
    "print(\"Symmetric difference:\",symm_diff)\n",
    "\n",
    "ven(subsets = (len(a),len(b),len(inter)) , set_labels=(\"set1\", \"set2\"))\n",
    "plt.show()"
   ]
  },
  {
   "cell_type": "code",
   "execution_count": null,
   "id": "b3b3a5f7-997e-4d86-84ff-24b6cd9d4b1f",
   "metadata": {},
   "outputs": [],
   "source": [
    "17)File Operations:\n",
    "    Write Python code to:\n",
    "        Create a text file.\n",
    "        Write a list of numbers to the file (one per line).\n",
    "        Read the file and compute their sum."
   ]
  },
  {
   "cell_type": "code",
   "execution_count": 95,
   "id": "18cf49a8-1178-42b4-9430-8fa6b7ab9d22",
   "metadata": {
    "scrolled": true
   },
   "outputs": [
    {
     "name": "stdout",
     "output_type": "stream",
     "text": [
      "1\n",
      "2\n",
      "3\n",
      "4\n",
      "5\n",
      "6\n",
      "7\n",
      "8\n",
      "36\n"
     ]
    }
   ],
   "source": [
    "fhand=open(\"text.txt\",\"w+\")\n",
    "l=[\"1\",\"2\",\"3\",\"4\",\"5\",\"6\",\"7\",\"8\"]\n",
    "for i in l:\n",
    "    fhand.write(i)\n",
    "    fhand.write(\"\\n\")\n",
    "s=0\n",
    "fhand.seek(0)\n",
    "for line in fhand.readlines():\n",
    "    print(line,end=\"\")\n",
    "    s+=int(line)\n",
    "print(s)\n",
    "fhand.close()"
   ]
  },
  {
   "cell_type": "code",
   "execution_count": null,
   "id": "f0d27ae1-42c8-456e-bd0f-91ef2ab1e681",
   "metadata": {},
   "outputs": [],
   "source": [
    "18)Word Count and Frequency:\n",
    "    Write a program to:\n",
    "        Read a file and count the number of words in it.\n",
    "        Find the most frequent word.\n",
    "        Visualize the word frequencies using a bar chart."
   ]
  },
  {
   "cell_type": "code",
   "execution_count": 81,
   "id": "b53db7e7-70b9-4c92-b6a8-241b6acdc770",
   "metadata": {},
   "outputs": [
    {
     "name": "stdin",
     "output_type": "stream",
     "text": [
      "Enter file name: text.txt\n"
     ]
    },
    {
     "name": "stdout",
     "output_type": "stream",
     "text": [
      "Most frequent word is 1\n"
     ]
    },
    {
     "data": {
      "image/png": "[encoded data removed]",
      "text/plain": [
       "<Figure size 640x480 with 1 Axes>"
      ]
     },
     "metadata": {},
     "output_type": "display_data"
    }
   ],
   "source": [
    "fname=input(\"Enter file name:\")\n",
    "fhand=open(fname,\"r\")\n",
    "d={}\n",
    "count=0\n",
    "frq=None\n",
    "for line in fhand:\n",
    "    l=line.split()\n",
    "    for i in l:\n",
    "        if i in d:\n",
    "            d[i]+=1\n",
    "        else:\n",
    "            d[i]=1\n",
    "        if d[i]>count:\n",
    "            count=d[i]\n",
    "            frq=i\n",
    "print(\"Most frequent word is\",frq)\n",
    "x=[i for i in d]\n",
    "y=[i for i in d.values()]\n",
    "plt.bar(x,y)\n",
    "plt.xlabel(\"Word\")\n",
    "plt.ylabel(\"Frequency\")\n",
    "plt.show()"
   ]
  },
  {
   "cell_type": "code",
   "execution_count": null,
   "id": "95beee4e-a0b5-4029-be11-9fe2d85d81cf",
   "metadata": {},
   "outputs": [],
   "source": [
    "19)Random Number Generation:\n",
    "    Write a Python program to:\n",
    "        Generate 100 random integers between 1 and 50.\n",
    "        Save them in a text file, one per line.\n",
    "        Read the file and compute the mean of the numbers.\n",
    "        Visualize the distribution of the numbers using a histogram."
   ]
  },
  {
   "cell_type": "code",
   "execution_count": 83,
   "id": "8e4a664f-3ffb-49d0-ad6e-3ac3341af35d",
   "metadata": {
    "scrolled": true
   },
   "outputs": [
    {
     "name": "stdout",
     "output_type": "stream",
     "text": [
      "['14', '50', '14', '38', '47', '12', '20', '27', '39', '33', '18', '3', '2', '19', '32', '7', '24', '14', '44', '16', '30', '41', '34', '6', '20', '18', '6', '44', '21', '47', '45', '35', '16', '20', '47', '45', '5', '30', '23', '8', '5', '25', '20', '1', '18', '35', '38', '41', '17', '27', '44', '27', '34', '50', '27', '20', '29', '28', '29', '11', '4', '1', '27', '19', '45', '6', '1', '15', '20', '48', '7', '30', '37', '34', '26', '40', '17', '22', '40', '42', '12', '1', '18', '32', '49', '34', '4', '27', '8', '16', '9', '35', '18', '39', '36', '2', '43', '46', '38', '50']\n"
     ]
    },
    {
     "data": {
      "image/png": "[encoded data removed]",
      "text/plain": [
       "<Figure size 640x480 with 1 Axes>"
      ]
     },
     "metadata": {},
     "output_type": "display_data"
    },
    {
     "name": "stdout",
     "output_type": "stream",
     "text": [
      "14\n",
      "50\n",
      "14\n",
      "38\n",
      "47\n",
      "12\n",
      "20\n",
      "27\n",
      "39\n",
      "33\n",
      "18\n",
      "3\n",
      "2\n",
      "19\n",
      "32\n",
      "7\n",
      "24\n",
      "14\n",
      "44\n",
      "16\n",
      "30\n",
      "41\n",
      "34\n",
      "6\n",
      "20\n",
      "18\n",
      "6\n",
      "44\n",
      "21\n",
      "47\n",
      "45\n",
      "35\n",
      "16\n",
      "20\n",
      "47\n",
      "45\n",
      "5\n",
      "30\n",
      "23\n",
      "8\n",
      "5\n",
      "25\n",
      "20\n",
      "1\n",
      "18\n",
      "35\n",
      "38\n",
      "41\n",
      "17\n",
      "27\n",
      "44\n",
      "27\n",
      "34\n",
      "50\n",
      "27\n",
      "20\n",
      "29\n",
      "28\n",
      "29\n",
      "11\n",
      "4\n",
      "1\n",
      "27\n",
      "19\n",
      "45\n",
      "6\n",
      "1\n",
      "15\n",
      "20\n",
      "48\n",
      "7\n",
      "30\n",
      "37\n",
      "34\n",
      "26\n",
      "40\n",
      "17\n",
      "22\n",
      "40\n",
      "42\n",
      "12\n",
      "1\n",
      "18\n",
      "32\n",
      "49\n",
      "34\n",
      "4\n",
      "27\n",
      "8\n",
      "16\n",
      "9\n",
      "35\n",
      "18\n",
      "39\n",
      "36\n",
      "2\n",
      "43\n",
      "46\n",
      "38\n",
      "50\n",
      "Mean= 25.38\n"
     ]
    }
   ],
   "source": [
    "import random as rn\n",
    "l=[]\n",
    "for i in range(100):\n",
    "    l.append(str(rn.randint(1,50)))\n",
    "print(l)\n",
    "plt.hist(l)\n",
    "plt.show()\n",
    "\n",
    "#saving in text file\n",
    "fhand=open(\"file.txrt\",\"w+\")\n",
    "for i in l:\n",
    "    fhand.write(i)\n",
    "    fhand.write(\"\\n\")\n",
    "\n",
    "#reading and finding mean\n",
    "s=0\n",
    "fhand.seek(0)\n",
    "for line in fhand:\n",
    "    print(line,end=\"\") \n",
    "    s+=int(line)\n",
    "mean=s/100\n",
    "print(\"Mean=\",mean)"
   ]
  },
  {
   "cell_type": "raw",
   "id": "f715c105-595e-49f1-ad89-06928425e7a5",
   "metadata": {},
   "source": [
    "21)Basic Statistics:\n",
    "    Write Python code to calculate:\n",
    "        Mean, median, mode, and standard deviation of a list of numbers.\n",
    "        Visualize the data using a box plot."
   ]
  },
  {
   "cell_type": "code",
   "execution_count": 84,
   "id": "3a9da541-1659-44c9-bf06-a4bef0122122",
   "metadata": {},
   "outputs": [
    {
     "name": "stdout",
     "output_type": "stream",
     "text": [
      "Mean= 13.2\n",
      "Median= 12.0\n",
      "Mode= 10\n",
      "Standard deviation= 5.473166867139677\n"
     ]
    },
    {
     "data": {
      "image/png": "[encoded data removed]",
      "text/plain": [
       "<Figure size 640x480 with 1 Axes>"
      ]
     },
     "metadata": {},
     "output_type": "display_data"
    }
   ],
   "source": [
    "import statistics as st\n",
    "import random\n",
    "\n",
    "l=[random.randint(1,20) for i in range (10)]\n",
    "mean=st.mean(l)\n",
    "median=st.median(l)\n",
    "mode=st.mode(l)\n",
    "std_dev=st.stdev(l)\n",
    "\n",
    "print(\"Mean=\",mean)\n",
    "print(\"Median=\",median)\n",
    "print(\"Mode=\",mode)\n",
    "print(\"Standard deviation=\",std_dev)\n",
    "plt.boxplot(l)\n",
    "plt.show()"
   ]
  },
  {
   "cell_type": "raw",
   "id": "025dbda4-ac5f-4c1f-874c-63744a681210",
   "metadata": {},
   "source": [
    "22)Normalization:\n",
    "    Write a Python function to normalize a list of numbers to a range of 0 to 1.\n",
    "    Visualize the normalized data using a line plot."
   ]
  },
  {
   "cell_type": "code",
   "execution_count": 85,
   "id": "30e39d30-68a4-43c1-ae50-cef52f2e1c17",
   "metadata": {},
   "outputs": [
    {
     "name": "stdout",
     "output_type": "stream",
     "text": [
      "Normalized list: [0.54, 0.54, 0.62, 0.15, 0.0, 1.0, 0.31, 0.31, 0.23, 0.85]\n"
     ]
    },
    {
     "data": {
      "image/png": "[encoded data removed]",
      "text/plain": [
       "<Figure size 640x480 with 1 Axes>"
      ]
     },
     "metadata": {},
     "output_type": "display_data"
    }
   ],
   "source": [
    "l=[random.randint(1,20) for i in range (10)]\n",
    "\n",
    "mini=min(l)\n",
    "maxi=max(l)\n",
    "norm=[]\n",
    "for i in l:\n",
    "    norm_val=(i-mini)/(maxi-mini)\n",
    "    norm.append(round(norm_val,2))\n",
    "print(\"Normalized list:\",norm)\n",
    "plt.plot(norm)\n",
    "plt.show()"
   ]
  },
  {
   "cell_type": "raw",
   "id": "bc046ab0-1fbc-4eff-ac55-830947792523",
   "metadata": {},
   "source": [
    "23)Even or Odd:\n",
    "    Write a Python program that takes an integer input from the user and prints whether the number is even or odd."
   ]
  },
  {
   "cell_type": "code",
   "execution_count": 25,
   "id": "5e804e2d-70fc-4719-a37d-301446a283ee",
   "metadata": {},
   "outputs": [
    {
     "name": "stdin",
     "output_type": "stream",
     "text": [
      "Enter the number: 5\n"
     ]
    },
    {
     "name": "stdout",
     "output_type": "stream",
     "text": [
      "The number is odd.\n"
     ]
    }
   ],
   "source": [
    "n=int(input(\"Enter the number:\"))\n",
    "\n",
    "if n%2==0:\n",
    "    print(\"The number is even.\")\n",
    "else:\n",
    "    print(\"The number is odd.\")"
   ]
  },
  {
   "cell_type": "raw",
   "id": "b83effc9-6650-4776-9ccb-e813e88ae92f",
   "metadata": {},
   "source": [
    "24)Grade Calculator:\n",
    "    Write a Python program that takes a numerical grade (0-100) as input and prints the corresponding letter grade (A, B, C, D, F)."
   ]
  },
  {
   "cell_type": "code",
   "execution_count": 26,
   "id": "f91a8aca-9a63-402e-9401-ea48e912519a",
   "metadata": {},
   "outputs": [
    {
     "name": "stdin",
     "output_type": "stream",
     "text": [
      "Enter your mark: 54\n"
     ]
    },
    {
     "name": "stdout",
     "output_type": "stream",
     "text": [
      "Grade: C\n"
     ]
    }
   ],
   "source": [
    "n=int(input(\"Enter your mark:\"))\n",
    "g=None\n",
    "if 80<n<=100:\n",
    "    g=\"A\"\n",
    "elif 60<n<=80:\n",
    "    g=\"B\"\n",
    "elif 40<n<=60:\n",
    "    g=\"C\"\n",
    "elif 20<n<=40:\n",
    "    g=\"D\"\n",
    "elif 0<n<=20:\n",
    "    g=\"F\"\n",
    "print(\"Grade:\",g)"
   ]
  },
  {
   "cell_type": "code",
   "execution_count": null,
   "id": "1d695c7a-7921-447a-908d-fbfb0cac324c",
   "metadata": {},
   "outputs": [],
   "source": [
    "25)Leap Year Checker:\n",
    "    Write a Python program that takes a year as input and checks if it is a leap year."
   ]
  },
  {
   "cell_type": "code",
   "execution_count": 32,
   "id": "5fe71b1e-9475-4b82-a0f2-c9637e14893c",
   "metadata": {},
   "outputs": [
    {
     "name": "stdin",
     "output_type": "stream",
     "text": [
      "Enter the year: 1900\n"
     ]
    },
    {
     "name": "stdout",
     "output_type": "stream",
     "text": [
      "1900 is not a leap year\n"
     ]
    }
   ],
   "source": [
    "n=int(input(\"Enter the year:\"))\n",
    "x=None\n",
    "if n%400==0:\n",
    "    x=True\n",
    "elif n%4==0 and n%100!=0:\n",
    "    x=True\n",
    "else:\n",
    "    x=False\n",
    "if x:\n",
    "    print(n,\"is a leap year\")\n",
    "else:\n",
    "    print(n,\"is not a leap year\")"
   ]
  }
 ],
 "metadata": {
  "kernelspec": {
   "display_name": "Python 3 (ipykernel)",
   "language": "python",
   "name": "python3"
  },
  "language_info": {
   "codemirror_mode": {
    "name": "ipython",
    "version": 3
   },
   "file_extension": ".py",
   "mimetype": "text/x-python",
   "name": "python",
   "nbconvert_exporter": "python",
   "pygments_lexer": "ipython3",
   "version": "3.12.8"
  }
 },
 "nbformat": 4,
 "nbformat_minor": 5
}
